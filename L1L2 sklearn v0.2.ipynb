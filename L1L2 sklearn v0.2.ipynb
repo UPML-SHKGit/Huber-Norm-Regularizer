{
 "cells": [
  {
   "cell_type": "code",
   "execution_count": 1,
   "metadata": {
    "collapsed": false
   },
   "outputs": [],
   "source": [
    "import pylab\n",
    "import pandas\n",
    "import numpy as np\n",
    "import sklearn\n",
    "import sklearn.multiclass\n",
    "from sklearn.multiclass import OneVsRestClassifier\n",
    "from sklearn.linear_model.base import LinearClassifierMixin, BaseEstimator\n",
    "from sklearn.linear_model import LogisticRegression\n",
    "\n",
    "%matplotlib inline"
   ]
  },
  {
   "cell_type": "code",
   "execution_count": 37,
   "metadata": {
    "collapsed": false
   },
   "outputs": [],
   "source": [
    "def grad_descent(X, y, w, v, param, C, is_l1):\n",
    "    grad = param * np.sign(v) if is_l1 else param * 2.0 * w\n",
    "    f1 = np.exp(-y * np.dot(w + v, X.T))\n",
    "    res = np.repeat((C * -y * (f1 / (1.0 + f1))).reshape(X.shape[0], 1), X.shape[1], axis=1) * X\n",
    "    return grad + res.sum(axis=0)"
   ]
  },
  {
   "cell_type": "code",
   "execution_count": 52,
   "metadata": {
    "collapsed": false
   },
   "outputs": [],
   "source": [
    "def optimizator(X, y, lambd, mu, C, max_iter, eps, alpha):\n",
    "    k = 0\n",
    "    w = np.zeros(X.shape[1])\n",
    "    v = np.zeros(X.shape[1])\n",
    "    \n",
    "    while True:\n",
    "        vec = np.add(w, v)\n",
    "        \n",
    "        # making optimization in w and v\n",
    "        v -= alpha * grad_descent(X, y, w, v, mu, C, True)\n",
    "        w -= alpha * grad_descent(X, y, w, v, lambd, C, False)\n",
    "                \n",
    "        k += 1\n",
    "        if k >= max_iter or np.linalg.norm(np.add(w,v) - vec, ord=2) < eps:\n",
    "            break\n",
    "\n",
    "    return max_iter, w, v\n",
    "\n",
    "class L1L2(BaseEstimator, LinearClassifierMixin):\n",
    "\n",
    "    def __init__(self, lambd=1., mu=1., C=1., max_iter=1000, eps=0.0001, alpha=0.001, fit_intercept=True):\n",
    "        self.lambd = lambd\n",
    "        self.mu = mu\n",
    "        self.C = C\n",
    "        self.max_iter = max_iter\n",
    "        self.eps = eps\n",
    "        self.alpha = alpha\n",
    "        self.fit_intercept = fit_intercept\n",
    "\n",
    "    def fit(self, X, y):\n",
    "        self.classes_, y = np.unique(y, return_inverse=True)\n",
    "        y = 2. * y - 1\n",
    "        if self.fit_intercept:\n",
    "            X = np.hstack((X, np.ones((X.shape[0], 1))))\n",
    "        self.n_iter_, self.w_, self.v_ = optimizator(X, y, self.lambd, self.mu, self.C, \n",
    "                                                     self.max_iter, self.alpha, self.eps)\n",
    "        self.coef_ = np.add(self.w_, self.v_).reshape((1, X.shape[1]))\n",
    "        self.intercept_ = 0.0\n",
    "        if self.fit_intercept:\n",
    "            self.intercept_ = self.coef_[:,-1]\n",
    "            self.coef_ = self.coef_[:,:-1]\n",
    "        return self\n",
    "    \n",
    "    def predict_proba(self, X):\n",
    "        return super(BaseL1L2, self)._predict_proba_lr(X)\n",
    "    \n",
    "    def get_params(self, deep=True):\n",
    "        return {'lambd': self.lambd, \n",
    "                'mu': self.mu, \n",
    "                'C': self.C, \n",
    "                'max_iter': self.max_iter, \n",
    "                'eps': self.eps, \n",
    "                'alpha': self.alpha, \n",
    "                'fit_intercept': self.fit_intercept}"
   ]
  },
  {
   "cell_type": "markdown",
   "metadata": {},
   "source": [
    "Basic test for multi class clasification"
   ]
  },
  {
   "cell_type": "code",
   "execution_count": 53,
   "metadata": {
    "collapsed": false
   },
   "outputs": [
    {
     "name": "stdout",
     "output_type": "stream",
     "text": [
      "100 loops, best of 3: 3.3 ms per loop\n",
      "1000 loops, best of 3: 463 µs per loop\n"
     ]
    },
    {
     "data": {
      "image/png": "[encoded data removed]",
      "text/plain": [
       "<matplotlib.figure.Figure at 0x7f985efc20d0>"
      ]
     },
     "metadata": {},
     "output_type": "display_data"
    }
   ],
   "source": [
    "X = np.zeros((9, 2))\n",
    "X[:,0] = [0, 1.1 , 0.5, 3, 3.8, 3.2, -1, -1.5, -1.8]\n",
    "X[:,1] = [-1, -1.2, -1.4, 0.1, -0.2, 0.5, 3, 3.4, 2.8]\n",
    "X = sklearn.preprocessing.scale(X)\n",
    "\n",
    "y = [1,1,1,2,2,2,3,3,3]\n",
    "\n",
    "%matplotlib inline\n",
    "\n",
    "pylab.figure(figsize=(12,6))\n",
    "for i, (title, reg) in enumerate([('L1L2', OneVsRestClassifier(L1L2(fit_intercept=True, lambd=0.5, max_iter=5000))), \n",
    "                                  ('Logistic Regression', LogisticRegression(fit_intercept=True))\n",
    "                                  ]):    \n",
    "    %timeit reg.fit(X, y)\n",
    "\n",
    "    pylab.subplot(1, 2, i+1)\n",
    "    \n",
    "    h = .02  # step size in the mesh\n",
    "\n",
    "    # Plot the decision boundary. For that, we will assign a color to each\n",
    "    # point in the mesh [x_min, m_max]x[y_min, y_max].\n",
    "    x_min, x_max = X[:, 0].min() - .5, X[:, 0].max() + .5\n",
    "    y_min, y_max = X[:, 1].min() - .5, X[:, 1].max() + .5\n",
    "    xx, yy = np.meshgrid(np.arange(x_min, x_max, h), np.arange(y_min, y_max, h))\n",
    "    Z = reg.predict(np.c_[xx.ravel(), yy.ravel()])\n",
    "\n",
    "    # Put the result into a color plot\n",
    "    Z = Z.reshape(xx.shape)\n",
    "    pylab.figure(1, figsize=(4, 3))\n",
    "    pylab.pcolormesh(xx, yy, Z, cmap=pylab.cm.Paired)\n",
    "\n",
    "    pylab.scatter(X[:,0], X[:,1], c=[{1:'r', 2:'b', 3:'g'}[y_] for y_ in y])\n",
    "    pylab.scatter(0,0, marker='x', c='k')\n",
    "    \n",
    "    pylab.title(title)"
   ]
  },
  {
   "cell_type": "markdown",
   "metadata": {
    "collapsed": false
   },
   "source": [
    "Test with reduced (2 attributes, all classes) digits data set."
   ]
  },
  {
   "cell_type": "code",
   "execution_count": 55,
   "metadata": {
    "collapsed": false
   },
   "outputs": [
    {
     "data": {
      "image/png": "[encoded data removed]",
      "text/plain": [
       "<matplotlib.figure.Figure at 0x7f985ef8e8d0>"
      ]
     },
     "metadata": {},
     "output_type": "display_data"
    }
   ],
   "source": [
    "import sklearn.datasets\n",
    "from sklearn.metrics import accuracy_score\n",
    "\n",
    "data = sklearn.datasets.load_digits()\n",
    "X = sklearn.preprocessing.scale(data['data'][:,[18,50]])\n",
    "y = data['target']\n",
    "\n",
    "pylab.figure(figsize=(12,6))\n",
    "for i, (title, reg) in enumerate([('L1L2', OneVsRestClassifier(L1L2(fit_intercept=True))), \n",
    "                                  ('Logistic Regression', LogisticRegression(fit_intercept=True))\n",
    "                                  ]):\n",
    "    reg.fit(X, y)\n",
    "    \n",
    "    pylab.subplot(1, 2, i+1)\n",
    "    \n",
    "    h = .02  # step size in the mesh\n",
    "\n",
    "    # Plot the decision boundary. For that, we will assign a color to each\n",
    "    # point in the mesh [x_min, m_max]x[y_min, y_max].\n",
    "    x_min, x_max = X[:, 0].min() - .5, X[:, 0].max() + .5\n",
    "    y_min, y_max = X[:, 1].min() - .5, X[:, 1].max() + .5\n",
    "    xx, yy = np.meshgrid(np.arange(x_min, x_max, h), np.arange(y_min, y_max, h))\n",
    "    Z = reg.predict(np.c_[xx.ravel(), yy.ravel()])\n",
    "\n",
    "    # Put the result into a color plot\n",
    "    Z = Z.reshape(xx.shape)\n",
    "    pylab.figure(1, figsize=(4, 3))\n",
    "    pylab.pcolormesh(xx, yy, Z, cmap=pylab.cm.Paired)\n",
    "    \n",
    "    for y_ in np.unique(y):\n",
    "        c = pylab.cm.Paired(y_ / float(len(np.unique(y))))\n",
    "        y_ = y == reg.predict(X)\n",
    "        pylab.scatter(X[:,0][y_], X[:,1][y_], c='w')\n",
    "    pylab.scatter(0,0, marker='x', c='k')\n",
    "    \n",
    "    pylab.title(title + (' Accurcy: %g' % accuracy_score(y, reg.predict(X))))\n"
   ]
  },
  {
   "cell_type": "markdown",
   "metadata": {
    "collapsed": false
   },
   "source": [
    "Test with reduced with complete digits data set."
   ]
  },
  {
   "cell_type": "code",
   "execution_count": 56,
   "metadata": {
    "collapsed": false
   },
   "outputs": [
    {
     "name": "stdout",
     "output_type": "stream",
     "text": [
      "Accuracy L1+L2: 0.927100723428\n",
      "Accuracy Logistic Regression: 0.92264885921\n"
     ]
    }
   ],
   "source": [
    "from sklearn.grid_search import GridSearchCV\n",
    "import sklearn.datasets\n",
    "from sklearn.cross_validation import StratifiedKFold\n",
    "\n",
    "data = sklearn.datasets.load_digits()\n",
    "X = sklearn.preprocessing.scale(data['data'])\n",
    "y = data['target']\n",
    "\n",
    "gs = GridSearchCV(OneVsRestClassifier(L1L2()), {'estimator__C':[1, 0.5]}, scoring='accuracy', cv=StratifiedKFold(y, n_folds=3), n_jobs=-1)\n",
    "gs.fit(X, y)\n",
    "print 'Accuracy L1+L2:', gs.best_score_\n",
    "\n",
    "gs = GridSearchCV(LogisticRegression(), {}, scoring='accuracy', cv=StratifiedKFold(y, n_folds=3), n_jobs=-1)\n",
    "gs.fit(X, y)\n",
    "gs.best_score_\n",
    "print 'Accuracy Logistic Regression:', gs.best_score_"
   ]
  },
  {
   "cell_type": "markdown",
   "metadata": {
    "collapsed": false
   },
   "source": [
    "Example Grid Search"
   ]
  },
  {
   "cell_type": "code",
   "execution_count": null,
   "metadata": {
    "collapsed": false
   },
   "outputs": [],
   "source": [
    "clf = OneVsRestClassifier(estimator=L1L2())\n",
    "param_grid = {'estimator__C': [0.01, 0.1, 1, 10, 100], \n",
    "              'estimator__lambd':[0.01, 0.1, 1, 10, 100], \n",
    "                  'estimator__mu':[0.01, 0.1, 1, 10, 100]}\n",
    "gs = GridSearchCV(clf, \n",
    "                  param_grid, \n",
    "                  scoring=scoring, \n",
    "                  cv=3,\n",
    "                  n_jobs=-1)"
   ]
  },
  {
   "cell_type": "code",
   "execution_count": null,
   "metadata": {
    "collapsed": false
   },
   "outputs": [],
   "source": []
  },
  {
   "cell_type": "code",
   "execution_count": null,
   "metadata": {
    "collapsed": true
   },
   "outputs": [],
   "source": []
  }
 ],
 "metadata": {
  "kernelspec": {
   "display_name": "Python 2",
   "language": "python",
   "name": "python2"
  },
  "language_info": {
   "codemirror_mode": {
    "name": "ipython",
    "version": 2
   },
   "file_extension": ".py",
   "mimetype": "text/x-python",
   "name": "python",
   "nbconvert_exporter": "python",
   "pygments_lexer": "ipython2",
   "version": "2.7.6"
  }
 },
 "nbformat": 4,
 "nbformat_minor": 0
}
